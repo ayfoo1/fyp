{
 "cells": [
  {
   "cell_type": "code",
   "execution_count": 1,
   "id": "e63060f1",
   "metadata": {},
   "outputs": [],
   "source": [
    "# Import libraries\n",
    "import numpy as np\n",
    "import pandas as pd\n",
    "import seaborn as sb\n",
    "from matplotlib import pyplot as plt\n",
    "from IPython.display import display"
   ]
  },
  {
   "cell_type": "code",
   "execution_count": null,
   "id": "527f16da",
   "metadata": {},
   "outputs": [],
   "source": []
  },
  {
   "cell_type": "code",
   "execution_count": 2,
   "id": "9c2d0120",
   "metadata": {},
   "outputs": [
    {
     "data": {
      "text/html": [
       "<div>\n",
       "<style scoped>\n",
       "    .dataframe tbody tr th:only-of-type {\n",
       "        vertical-align: middle;\n",
       "    }\n",
       "\n",
       "    .dataframe tbody tr th {\n",
       "        vertical-align: top;\n",
       "    }\n",
       "\n",
       "    .dataframe thead th {\n",
       "        text-align: right;\n",
       "    }\n",
       "</style>\n",
       "<table border=\"1\" class=\"dataframe\">\n",
       "  <thead>\n",
       "    <tr style=\"text-align: right;\">\n",
       "      <th></th>\n",
       "      <th>Entity</th>\n",
       "      <th>story</th>\n",
       "      <th>Year</th>\n",
       "      <th>records lost</th>\n",
       "      <th>ORGANISATION</th>\n",
       "      <th>METHOD OF LEAK</th>\n",
       "      <th>DATA SENSITIVITY</th>\n",
       "    </tr>\n",
       "  </thead>\n",
       "  <tbody>\n",
       "    <tr>\n",
       "      <th>0</th>\n",
       "      <td>AOL</td>\n",
       "      <td>A former America Online software engineer stol...</td>\n",
       "      <td>2004</td>\n",
       "      <td>9.200000e+07</td>\n",
       "      <td>web</td>\n",
       "      <td>inside job</td>\n",
       "      <td>1</td>\n",
       "    </tr>\n",
       "    <tr>\n",
       "      <th>1</th>\n",
       "      <td>Cardsystems Solutions Inc.</td>\n",
       "      <td>CardSystems was fingered by MasterCard after i...</td>\n",
       "      <td>2005</td>\n",
       "      <td>4.000000e+07</td>\n",
       "      <td>financial</td>\n",
       "      <td>hacked</td>\n",
       "      <td>300</td>\n",
       "    </tr>\n",
       "    <tr>\n",
       "      <th>2</th>\n",
       "      <td>Ameritrade Inc.</td>\n",
       "      <td>online broker</td>\n",
       "      <td>2005</td>\n",
       "      <td>2.000000e+05</td>\n",
       "      <td>financial</td>\n",
       "      <td>lost/stolen</td>\n",
       "      <td>20</td>\n",
       "    </tr>\n",
       "    <tr>\n",
       "      <th>3</th>\n",
       "      <td>Citigroup</td>\n",
       "      <td>Blame the messenger! A box of computer tapes c...</td>\n",
       "      <td>2005</td>\n",
       "      <td>3.900000e+06</td>\n",
       "      <td>financial</td>\n",
       "      <td>lost/stolen</td>\n",
       "      <td>300</td>\n",
       "    </tr>\n",
       "    <tr>\n",
       "      <th>4</th>\n",
       "      <td>Automatic Data Processing</td>\n",
       "      <td>NaN</td>\n",
       "      <td>2005</td>\n",
       "      <td>1.250000e+05</td>\n",
       "      <td>financial</td>\n",
       "      <td>poor security</td>\n",
       "      <td>20</td>\n",
       "    </tr>\n",
       "    <tr>\n",
       "      <th>...</th>\n",
       "      <td>...</td>\n",
       "      <td>...</td>\n",
       "      <td>...</td>\n",
       "      <td>...</td>\n",
       "      <td>...</td>\n",
       "      <td>...</td>\n",
       "      <td>...</td>\n",
       "    </tr>\n",
       "    <tr>\n",
       "      <th>272</th>\n",
       "      <td>Aadhaar</td>\n",
       "      <td>Mar. A security researcher discovered a system...</td>\n",
       "      <td>2018</td>\n",
       "      <td>1.100000e+09</td>\n",
       "      <td>government</td>\n",
       "      <td>poor security</td>\n",
       "      <td>4000</td>\n",
       "    </tr>\n",
       "    <tr>\n",
       "      <th>273</th>\n",
       "      <td>Saks and Lord &amp; Taylor</td>\n",
       "      <td>Apr. A known ring of cybercriminals implanted ...</td>\n",
       "      <td>2018</td>\n",
       "      <td>5.000000e+06</td>\n",
       "      <td>retail</td>\n",
       "      <td>hacked</td>\n",
       "      <td>300</td>\n",
       "    </tr>\n",
       "    <tr>\n",
       "      <th>274</th>\n",
       "      <td>Panerabread</td>\n",
       "      <td>Customer records were available via the site f...</td>\n",
       "      <td>2018</td>\n",
       "      <td>3.700000e+07</td>\n",
       "      <td>retail</td>\n",
       "      <td>poor security</td>\n",
       "      <td>20</td>\n",
       "    </tr>\n",
       "    <tr>\n",
       "      <th>275</th>\n",
       "      <td>MyFitnessPal</td>\n",
       "      <td>Feb. Usernames, email addresses, and hashed us...</td>\n",
       "      <td>2018</td>\n",
       "      <td>1.500000e+08</td>\n",
       "      <td>app</td>\n",
       "      <td>hacked</td>\n",
       "      <td>1</td>\n",
       "    </tr>\n",
       "    <tr>\n",
       "      <th>276</th>\n",
       "      <td>Twitter</td>\n",
       "      <td>May. A glitch caused some passwords to be stor...</td>\n",
       "      <td>2018</td>\n",
       "      <td>3.300000e+08</td>\n",
       "      <td>app</td>\n",
       "      <td>poor security</td>\n",
       "      <td>1</td>\n",
       "    </tr>\n",
       "  </tbody>\n",
       "</table>\n",
       "<p>277 rows × 7 columns</p>\n",
       "</div>"
      ],
      "text/plain": [
       "                         Entity  \\\n",
       "0                           AOL   \n",
       "1    Cardsystems Solutions Inc.   \n",
       "2               Ameritrade Inc.   \n",
       "3                     Citigroup   \n",
       "4     Automatic Data Processing   \n",
       "..                          ...   \n",
       "272                     Aadhaar   \n",
       "273      Saks and Lord & Taylor   \n",
       "274                 Panerabread   \n",
       "275                MyFitnessPal   \n",
       "276                     Twitter   \n",
       "\n",
       "                                                 story  Year  records lost  \\\n",
       "0    A former America Online software engineer stol...  2004  9.200000e+07   \n",
       "1    CardSystems was fingered by MasterCard after i...  2005  4.000000e+07   \n",
       "2                                        online broker  2005  2.000000e+05   \n",
       "3    Blame the messenger! A box of computer tapes c...  2005  3.900000e+06   \n",
       "4                                                  NaN  2005  1.250000e+05   \n",
       "..                                                 ...   ...           ...   \n",
       "272  Mar. A security researcher discovered a system...  2018  1.100000e+09   \n",
       "273  Apr. A known ring of cybercriminals implanted ...  2018  5.000000e+06   \n",
       "274  Customer records were available via the site f...  2018  3.700000e+07   \n",
       "275  Feb. Usernames, email addresses, and hashed us...  2018  1.500000e+08   \n",
       "276  May. A glitch caused some passwords to be stor...  2018  3.300000e+08   \n",
       "\n",
       "    ORGANISATION METHOD OF LEAK  DATA SENSITIVITY  \n",
       "0            web     inside job                 1  \n",
       "1      financial         hacked               300  \n",
       "2      financial    lost/stolen                20  \n",
       "3      financial    lost/stolen               300  \n",
       "4      financial  poor security                20  \n",
       "..           ...            ...               ...  \n",
       "272   government  poor security              4000  \n",
       "273       retail         hacked               300  \n",
       "274       retail  poor security                20  \n",
       "275          app         hacked                 1  \n",
       "276          app  poor security                 1  \n",
       "\n",
       "[277 rows x 7 columns]"
      ]
     },
     "execution_count": 2,
     "metadata": {},
     "output_type": "execute_result"
    }
   ],
   "source": [
    "# Reading dataframe\n",
    "\n",
    "df=pd.read_csv('databreach.csv', encoding='iso-8859-1')\n",
    "# Select relevant features\n",
    "df=df[['ï»¿Entity','story','YEAR(2)','records lost','ORGANISATION','METHOD OF LEAK','DATA SENSITIVITY']]\n",
    "\n",
    "df['METHOD OF LEAK']=df['METHOD OF LEAK'].replace('lost / stolen device or media','lost/stolen')\n",
    "df=df.rename(columns={'ï»¿Entity':'Entity'})\n",
    "df=df.rename(columns={'YEAR(2)':'Year'})\n",
    "df"
   ]
  },
  {
   "cell_type": "code",
   "execution_count": 8,
   "id": "e37fb9a7",
   "metadata": {},
   "outputs": [
    {
     "data": {
      "text/plain": [
       "hacked                    171\n",
       "lost/stolen                50\n",
       "inside job                 19\n",
       "poor security              19\n",
       "accidentally published     18\n",
       "Name: METHOD OF LEAK, dtype: int64"
      ]
     },
     "execution_count": 8,
     "metadata": {},
     "output_type": "execute_result"
    }
   ],
   "source": [
    "df['METHOD OF LEAK'].value_counts()"
   ]
  },
  {
   "cell_type": "code",
   "execution_count": null,
   "id": "93e04d82",
   "metadata": {},
   "outputs": [],
   "source": []
  },
  {
   "cell_type": "code",
   "execution_count": 3,
   "id": "b1b4a9d6",
   "metadata": {},
   "outputs": [
    {
     "data": {
      "text/plain": [
       "web                     78\n",
       "government              55\n",
       "healthcare              37\n",
       "financial               33\n",
       "retail                  18\n",
       "internet involvement    15\n",
       "telecoms                10\n",
       "tech                    10\n",
       "Name: ORGANISATION, dtype: int64"
      ]
     },
     "execution_count": 3,
     "metadata": {},
     "output_type": "execute_result"
    }
   ],
   "source": [
    "# Combine relevant types together\n",
    "df=df.groupby('ORGANISATION').filter(lambda x : len(x)>3)\n",
    "df['ORGANISATION']=df['ORGANISATION'].replace(['app','gaming','telcoms'],'internet involvement')\n",
    "df['ORGANISATION']=df['ORGANISATION'].replace(['academic','military'],'government')\n",
    "df['ORGANISATION'].value_counts()"
   ]
  },
  {
   "cell_type": "code",
   "execution_count": 4,
   "id": "f3014f7e",
   "metadata": {},
   "outputs": [
    {
     "name": "stdout",
     "output_type": "stream",
     "text": [
      "Entity               object\n",
      "story                object\n",
      "Year                  int64\n",
      "records lost        float64\n",
      "ORGANISATION         object\n",
      "METHOD OF LEAK       object\n",
      "DATA SENSITIVITY      int64\n",
      "dtype: object \n",
      "\n"
     ]
    }
   ],
   "source": [
    "print(df.dtypes,\"\\n\")"
   ]
  },
  {
   "cell_type": "code",
   "execution_count": 5,
   "id": "c62bf5ce",
   "metadata": {},
   "outputs": [
    {
     "data": {
      "image/png": "[encoded data removed]",
      "text/plain": [
       "<Figure size 720x360 with 1 Axes>"
      ]
     },
     "metadata": {
      "needs_background": "light"
     },
     "output_type": "display_data"
    }
   ],
   "source": [
    "# Visualise types of organisation distribution\n",
    "sb.catplot(x=\"ORGANISATION\",\n",
    "                data=df,\n",
    "                kind=\"count\",height=5 ,aspect=2)\n",
    "plt.xticks(rotation=45)\n",
    "plt.show()"
   ]
  },
  {
   "cell_type": "code",
   "execution_count": 6,
   "id": "bc68994e",
   "metadata": {},
   "outputs": [
    {
     "data": {
      "text/plain": [
       "<seaborn.axisgrid.FacetGrid at 0x2c3c4cbb1f0>"
      ]
     },
     "execution_count": 6,
     "metadata": {},
     "output_type": "execute_result"
    },
    {
     "data": {
      "image/png": "[encoded data removed]",
      "text/plain": [
       "<Figure size 720x360 with 1 Axes>"
      ]
     },
     "metadata": {
      "needs_background": "light"
     },
     "output_type": "display_data"
    }
   ],
   "source": [
    "# Visualise no. incidents per year\n",
    "sb.catplot(x=\"Year\",\n",
    "                data=df,\n",
    "                kind=\"count\",height=5 ,aspect=2)"
   ]
  },
  {
   "cell_type": "code",
   "execution_count": null,
   "id": "b646813d",
   "metadata": {},
   "outputs": [],
   "source": []
  },
  {
   "cell_type": "code",
   "execution_count": 7,
   "id": "6966a799",
   "metadata": {},
   "outputs": [
    {
     "data": {
      "text/plain": [
       "<seaborn.axisgrid.FacetGrid at 0x2c3c5667640>"
      ]
     },
     "execution_count": 7,
     "metadata": {},
     "output_type": "execute_result"
    },
    {
     "data": {
      "image/png": "[encoded data removed]",
      "text/plain": [
       "<Figure size 720x360 with 1 Axes>"
      ]
     },
     "metadata": {
      "needs_background": "light"
     },
     "output_type": "display_data"
    }
   ],
   "source": [
    "# Visualise types of methods of leak\n",
    "sb.catplot(x=\"METHOD OF LEAK\",\n",
    "                data=df,\n",
    "                kind=\"count\",height=5 ,aspect=2)"
   ]
  },
  {
   "cell_type": "code",
   "execution_count": 8,
   "id": "604afa8e",
   "metadata": {},
   "outputs": [
    {
     "name": "stderr",
     "output_type": "stream",
     "text": [
      "<ipython-input-8-9037326678af>:6: UserWarning: FixedFormatter should only be used together with FixedLocator\n",
      "  ax.set_yticklabels(['10','100','1000','10000','100,000','1,000,000','10mil','100mil','10bil','1tril','100tril'])\n"
     ]
    },
    {
     "data": {
      "image/png": "[encoded data removed]",
      "text/plain": [
       "<Figure size 720x576 with 1 Axes>"
      ]
     },
     "metadata": {
      "needs_background": "light"
     },
     "output_type": "display_data"
    }
   ],
   "source": [
    "# Visualise method of leak to records lost\n",
    "\n",
    "f,ax=plt.subplots(figsize=(10,8))\n",
    "sb.stripplot(x='METHOD OF LEAK',y='records lost',data=df)\n",
    "ax.set(yscale=\"log\")\n",
    "ax.set_yticklabels(['10','100','1000','10000','100,000','1,000,000','10mil','100mil','10bil','1tril','100tril'])\n",
    "plt.show()"
   ]
  },
  {
   "cell_type": "markdown",
   "id": "5e1aaacc",
   "metadata": {},
   "source": [
    "# Machine Learning"
   ]
  },
  {
   "cell_type": "code",
   "execution_count": 9,
   "id": "a19b08d4",
   "metadata": {},
   "outputs": [],
   "source": [
    "# Import machine learning libraries\n",
    "from sklearn.preprocessing import OneHotEncoder\n",
    "from sklearn.preprocessing import StandardScaler\n",
    "from sklearn.linear_model import LogisticRegression,LinearRegression\n",
    "from sklearn.pipeline import make_pipeline,Pipeline\n",
    "from sklearn.model_selection import cross_val_score, validation_curve\n",
    "from sklearn.svm import SVR\n",
    "from sklearn.neural_network import MLPRegressor\n",
    "from sklearn.metrics import mean_squared_error\n",
    "from sklearn.neighbors import KNeighborsRegressor\n",
    "from sklearn.tree import DecisionTreeRegressor\n",
    "from sklearn.ensemble import RandomForestRegressor\n",
    "from sklearn.tree import DecisionTreeClassifier\n",
    "from sklearn.tree import plot_tree\n",
    "from sklearn.model_selection import train_test_split\n",
    "from sklearn.metrics import confusion_matrix,accuracy_score\n",
    "from sklearn.model_selection import KFold ,StratifiedKFold\n",
    "from sklearn.compose import ColumnTransformer"
   ]
  },
  {
   "cell_type": "markdown",
   "id": "2db07cbb",
   "metadata": {},
   "source": [
    "# Modelling a Regressor"
   ]
  },
  {
   "cell_type": "code",
   "execution_count": 10,
   "id": "0f845251",
   "metadata": {},
   "outputs": [],
   "source": [
    "# Predict possible records lost \n",
    "\n",
    "df2=df[['METHOD OF LEAK','records lost','ORGANISATION','Year','DATA SENSITIVITY']]\n",
    "df2=df2.dropna()\n",
    "df2.reset_index(drop=True,inplace=True)\n",
    "df2=df2.astype('category')"
   ]
  },
  {
   "cell_type": "code",
   "execution_count": 11,
   "id": "d3760fbe",
   "metadata": {},
   "outputs": [],
   "source": [
    "X=df2[['METHOD OF LEAK','ORGANISATION','Year','DATA SENSITIVITY']]\n",
    "y=df2['records lost']"
   ]
  },
  {
   "cell_type": "code",
   "execution_count": 12,
   "id": "7919bcc1",
   "metadata": {},
   "outputs": [
    {
     "name": "stdout",
     "output_type": "stream",
     "text": [
      "(254, 4) (254,)\n"
     ]
    }
   ],
   "source": [
    "print(X.shape,y.shape)"
   ]
  },
  {
   "cell_type": "code",
   "execution_count": 13,
   "id": "1d022518",
   "metadata": {},
   "outputs": [],
   "source": [
    "# Model building\n",
    "\n",
    "# Encode categorical variable\n",
    "enc=OneHotEncoder(sparse=False)\n",
    "enc=enc.fit_transform(X)\n",
    "X_train, X_test, y_train, y_test = train_test_split(enc, y, test_size=0.2,random_state=111) "
   ]
  },
  {
   "cell_type": "code",
   "execution_count": 14,
   "id": "ef39eacc",
   "metadata": {},
   "outputs": [
    {
     "name": "stdout",
     "output_type": "stream",
     "text": [
      "(203, 34) (203,)\n",
      "(51, 34) (51,)\n"
     ]
    }
   ],
   "source": [
    "k=KNeighborsRegressor(n_neighbors=1)\n",
    "print(X_train.shape,y_train.shape)\n",
    "print(X_test.shape,y_test.shape)"
   ]
  },
  {
   "cell_type": "code",
   "execution_count": 15,
   "id": "cbc82909",
   "metadata": {},
   "outputs": [
    {
     "name": "stdout",
     "output_type": "stream",
     "text": [
      "Model train score: 0.895637340821516\n",
      "Model test score: -0.4164364159643452\n",
      "Cross val score: -1.222245719589989\n"
     ]
    }
   ],
   "source": [
    "# Fit model and predict\n",
    "\n",
    "k.fit(X_train,y_train)\n",
    "print(\"Model train score: {}\".format(k.score(X_train,y_train)))\n",
    "print(\"Model test score: {}\".format(k.score(X_test,y_test)))\n",
    "print(\"Cross val score: {}\".format(cross_val_score(k,X_train,y_train).mean()))\n",
    "y_pred=k.predict(X_test)"
   ]
  },
  {
   "cell_type": "code",
   "execution_count": 16,
   "id": "c215a58b",
   "metadata": {},
   "outputs": [],
   "source": [
    "# Accuracy test for no. neighbors param from 1-10\n",
    "\n",
    "parameter_range = np.arange(1, 10, 1)\n",
    "train_score, test_score = validation_curve(KNeighborsRegressor(), enc, y,\n",
    "                                       param_name = \"n_neighbors\",\n",
    "                                       param_range = parameter_range,\n",
    "                                        cv = 5)"
   ]
  },
  {
   "cell_type": "code",
   "execution_count": 17,
   "id": "d4bde742",
   "metadata": {},
   "outputs": [
    {
     "data": {
      "image/png": "[encoded data removed]",
      "text/plain": [
       "<Figure size 432x288 with 1 Axes>"
      ]
     },
     "metadata": {
      "needs_background": "light"
     },
     "output_type": "display_data"
    }
   ],
   "source": [
    "# Calculating mean  of training and test score\n",
    "mean_train_score = np.mean(train_score, axis = 1)\n",
    "mean_test_score = np.mean(test_score, axis = 1)\n",
    "\n",
    " \n",
    "# Plot mean accuracy scores for training set\n",
    "plt.plot(parameter_range,mean_train_score,)\n",
    "plt.title(\"Mean accuracy of KNN Regressor train set\")\n",
    "plt.xlabel(\"Number of Neighbours\")\n",
    "plt.ylabel(\"Accuracy (R^2)\")\n",
    "plt.tight_layout()"
   ]
  },
  {
   "cell_type": "code",
   "execution_count": 18,
   "id": "45025d45",
   "metadata": {},
   "outputs": [
    {
     "data": {
      "image/png": "[encoded data removed]",
      "text/plain": [
       "<Figure size 432x288 with 1 Axes>"
      ]
     },
     "metadata": {
      "needs_background": "light"
     },
     "output_type": "display_data"
    }
   ],
   "source": [
    "plt.plot(parameter_range,mean_test_score,)\n",
    "plt.title(\"Mean accuracy of KNN Regressor test set\")\n",
    "plt.xlabel(\"Number of Neighbours\")\n",
    "plt.ylabel(\"Accuracy (R^2)\")\n",
    "plt.tight_layout()"
   ]
  },
  {
   "cell_type": "code",
   "execution_count": null,
   "id": "5518f4d6",
   "metadata": {},
   "outputs": [],
   "source": []
  },
  {
   "cell_type": "code",
   "execution_count": null,
   "id": "ab762f2b",
   "metadata": {},
   "outputs": [],
   "source": []
  },
  {
   "cell_type": "markdown",
   "id": "f02492e8",
   "metadata": {},
   "source": [
    "# Modelling a Classifier"
   ]
  },
  {
   "cell_type": "code",
   "execution_count": 19,
   "id": "aec12e33",
   "metadata": {},
   "outputs": [],
   "source": [
    "# Predict type organisation to be targeted based on year of attack\n",
    "\n",
    "X2=df2[['Year']]\n",
    "Y2=df2['ORGANISATION']"
   ]
  },
  {
   "cell_type": "code",
   "execution_count": 20,
   "id": "da1d67f5",
   "metadata": {},
   "outputs": [
    {
     "name": "stdout",
     "output_type": "stream",
     "text": [
      "Training size: (203, 1),(203,), Test size: (51, 1),(51,)\n",
      "\n",
      "Train score: 0.4433497536945813\n",
      "Test score : 0.35294117647058826 \n",
      "\n"
     ]
    }
   ],
   "source": [
    "# Building a decision tree classifier\n",
    "\n",
    "X_train, X_test, y_train, y_test = train_test_split(X2, Y2, test_size=0.2,random_state=111) \n",
    "print('Training size: {},{}, Test size: {},{}\\n'.format(X_train.shape,y_train.shape,X_test.shape,y_test.shape))\n",
    "clf=DecisionTreeClassifier(random_state=2)\n",
    "clf.fit(X_train,y_train)\n",
    "print('Train score: {}'.format(clf.score(X_train,y_train)))\n",
    "print('Test score : {}'.format(clf.score(X_test,y_test)),'\\n')\n",
    "y_pred=clf.predict(X_test)"
   ]
  },
  {
   "cell_type": "code",
   "execution_count": 21,
   "id": "380ee129",
   "metadata": {},
   "outputs": [
    {
     "data": {
      "text/plain": [
       "0.3545121951219512"
      ]
     },
     "execution_count": 21,
     "metadata": {},
     "output_type": "execute_result"
    }
   ],
   "source": [
    "# Cross validate training data \n",
    "kf = StratifiedKFold(n_splits=5)\n",
    "cross_val_score(clf,X_train,y_train, cv=kf).mean()"
   ]
  },
  {
   "cell_type": "code",
   "execution_count": 22,
   "id": "b3c97c69",
   "metadata": {},
   "outputs": [
    {
     "data": {
      "text/plain": [
       "0.35294117647058826"
      ]
     },
     "execution_count": 22,
     "metadata": {},
     "output_type": "execute_result"
    }
   ],
   "source": [
    "# Accuracy of predicted data\n",
    "accuracy_score(y_test,y_pred)"
   ]
  },
  {
   "cell_type": "code",
   "execution_count": 23,
   "id": "00434c53",
   "metadata": {},
   "outputs": [
    {
     "data": {
      "text/plain": [
       "[('web', 'web'),\n",
       " ('retail', 'internet involvement'),\n",
       " ('web', 'retail'),\n",
       " ('web', 'financial'),\n",
       " ('government', 'government'),\n",
       " ('government', 'retail'),\n",
       " ('web', 'web'),\n",
       " ('government', 'financial'),\n",
       " ('government', 'tech'),\n",
       " ('web', 'government')]"
      ]
     },
     "execution_count": 23,
     "metadata": {},
     "output_type": "execute_result"
    }
   ],
   "source": [
    "# Predicted vs actual\n",
    "pred,actual=y_pred.tolist(),y_test.tolist()\n",
    "temp = list(zip(pred,actual))\n",
    "temp[:10]"
   ]
  },
  {
   "cell_type": "code",
   "execution_count": 24,
   "id": "831fe36b",
   "metadata": {},
   "outputs": [
    {
     "name": "stdout",
     "output_type": "stream",
     "text": [
      "['web']\n",
      "['financial']\n",
      "['telecoms']\n",
      "['government']\n",
      "['government']\n",
      "['government']\n",
      "['healthcare']\n",
      "['healthcare']\n",
      "['web']\n",
      "['web']\n",
      "['web']\n",
      "['web']\n",
      "['web']\n",
      "['web']\n",
      "['retail']\n"
     ]
    }
   ],
   "source": [
    "# Check if there is a change in trend of attacks targeting specific organisations over the years\n",
    "k=2004\n",
    "for i in range(15):\n",
    "    print(clf.predict([[k]]))\n",
    "    k=k+1"
   ]
  },
  {
   "cell_type": "code",
   "execution_count": null,
   "id": "74a710ef",
   "metadata": {},
   "outputs": [],
   "source": []
  },
  {
   "cell_type": "code",
   "execution_count": null,
   "id": "43805599",
   "metadata": {},
   "outputs": [],
   "source": []
  }
 ],
 "metadata": {
  "kernelspec": {
   "display_name": "Python 3 (ipykernel)",
   "language": "python",
   "name": "python3"
  },
  "language_info": {
   "codemirror_mode": {
    "name": "ipython",
    "version": 3
   },
   "file_extension": ".py",
   "mimetype": "text/x-python",
   "name": "python",
   "nbconvert_exporter": "python",
   "pygments_lexer": "ipython3",
   "version": "3.9.7"
  }
 },
 "nbformat": 4,
 "nbformat_minor": 5
}
